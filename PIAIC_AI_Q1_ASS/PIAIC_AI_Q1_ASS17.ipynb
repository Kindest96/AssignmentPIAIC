{
 "cells": [
  {
   "cell_type": "code",
   "execution_count": null,
   "metadata": {},
   "outputs": [
    {
     "name": "stdout",
     "output_type": "stream",
     "text": [
      "Enter a Binary number: 1101\n"
     ]
    }
   ],
   "source": [
    "binary = int(input(\"Enter a Binary number: \"))\n",
    "temporary_binary = binary\n",
    "decimal = 0\n",
    "multiplier = 1\n",
    "\n",
    "while temporary_binary>=0:\n",
    "    decimal+=((temporary_binary%10)*multiplier)\n",
    "    temporary_binary//=10\n",
    "    multiplier*=2\n",
    "\n",
    "print(\"Decimal Representation of\", binary, \"is\", decimal)"
   ]
  },
  {
   "cell_type": "code",
   "execution_count": null,
   "metadata": {},
   "outputs": [],
   "source": []
  }
 ],
 "metadata": {
  "kernelspec": {
   "display_name": "Python 3",
   "language": "python",
   "name": "python3"
  },
  "language_info": {
   "codemirror_mode": {
    "name": "ipython",
    "version": 3
   },
   "file_extension": ".py",
   "mimetype": "text/x-python",
   "name": "python",
   "nbconvert_exporter": "python",
   "pygments_lexer": "ipython3",
   "version": "3.7.3"
  }
 },
 "nbformat": 4,
 "nbformat_minor": 2
}
