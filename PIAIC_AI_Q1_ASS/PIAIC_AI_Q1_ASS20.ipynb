{
 "cells": [
  {
   "cell_type": "code",
   "execution_count": 6,
   "metadata": {},
   "outputs": [
    {
     "name": "stdout",
     "output_type": "stream",
     "text": [
      "Enter text: Python 3.2\n",
      "Numbers = 2\n",
      "Alphabets = 6\n",
      "Special Characters = 1\n",
      "Spaces = 1\n"
     ]
    }
   ],
   "source": [
    "string = input(\"Enter text: \")\n",
    "\n",
    "number = 0\n",
    "alpha = 0\n",
    "special = 0\n",
    "space = 0\n",
    "\n",
    "for letter in string:\n",
    "    if letter.isnumeric():\n",
    "        number+=1\n",
    "    elif letter.isalpha():\n",
    "        alpha+=1\n",
    "    elif letter.isspace():\n",
    "        space+=1\n",
    "    else:\n",
    "        special+=1\n",
    "\n",
    "print(\"Numbers =\", number)\n",
    "print(\"Alphabets =\", alpha)\n",
    "print(\"Special Characters =\", special)\n",
    "print(\"Spaces =\", space)"
   ]
  },
  {
   "cell_type": "code",
   "execution_count": null,
   "metadata": {},
   "outputs": [],
   "source": []
  }
 ],
 "metadata": {
  "kernelspec": {
   "display_name": "Python 3",
   "language": "python",
   "name": "python3"
  },
  "language_info": {
   "codemirror_mode": {
    "name": "ipython",
    "version": 3
   },
   "file_extension": ".py",
   "mimetype": "text/x-python",
   "name": "python",
   "nbconvert_exporter": "python",
   "pygments_lexer": "ipython3",
   "version": "3.7.3"
  }
 },
 "nbformat": 4,
 "nbformat_minor": 2
}
