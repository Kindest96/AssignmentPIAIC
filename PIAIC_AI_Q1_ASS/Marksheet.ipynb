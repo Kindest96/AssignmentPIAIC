{
 "cells": [
  {
   "cell_type": "code",
   "execution_count": 3,
   "metadata": {},
   "outputs": [
    {
     "name": "stdout",
     "output_type": "stream",
     "text": [
      "Enter marks between 0 to 100\n",
      "Input your name: Asif Nawaz\n",
      "Input your father name: Shah Nawaz\n",
      "Input your roll number: 177013\n",
      "Enter marks for Maths: 100\n",
      "Enter marks for Chemistry: 90\n",
      "Enter marks for Physics: 100\n",
      "Enter marks for English: 100\n",
      "Enter marks for Computer: 100\n",
      "A+ 98.0\n"
     ]
    }
   ],
   "source": [
    "\n",
    "print(\"Enter marks between 0 to 100\")\n",
    "\n",
    "student_name = input(\"Input your name: \")\n",
    "father_name = input(\"Input your father name: \")\n",
    "roll_no = input(\"Input your roll number: \")\n",
    "\n",
    "maths = input(\"Enter marks for Maths: \")\n",
    "chemistry = input(\"Enter marks for Chemistry: \")\n",
    "physics = input(\"Enter marks for Physics: \")\n",
    "english = input(\"Enter marks for English: \")\n",
    "computer = input(\"Enter marks for Computer: \")\n",
    "\n",
    "total_marks = int(maths) + int(chemistry) + int(physics) + int(english) + int(computer)\n",
    "\n",
    "percentage = ( total_marks / 500 ) * 100\n",
    "\n",
    "if percentage <= 100 and percentage >= 80:\n",
    "    grade = \"A+\"\n",
    "elif percentage < 80 and percentage >= 70:\n",
    "    grade = \"A\"\n",
    "elif percentage < 70 and percentage >= 60:\n",
    "    grade = \"B\"\n",
    "elif percentage < 60 and percentage >= 50:\n",
    "    grade = \"C\"\n",
    "elif percentage < 50 and percentage >= 40:\n",
    "    grade = \"D\"\n",
    "else:\n",
    "    grade = \"F\"\n",
    "\n",
    "print(grade, percentage)\n",
    "    \n",
    "with open(roll_no+\".txt\", \"a\") as marksheet:\n",
    "    marksheet.write(\"Student Name: \"+student_name+\"\\nFather Name: \"+father_name+\"\\nRoll No.: \"+roll_no)\n",
    "    marksheet.write(\"\\n\\n\\nMaths: \"+maths+\"\\nChemistry: \"+chemistry+\"\\nPhysics: \"+physics+\"\\nEnglish: \"+english+\"\\nComputer: \"+computer)\n",
    "    marksheet.write(\"\\n\\n\\nPercentage: \"+str(percentage)+\"\\tGrade: \"+str(grade))"
   ]
  },
  {
   "cell_type": "code",
   "execution_count": null,
   "metadata": {},
   "outputs": [],
   "source": []
  }
 ],
 "metadata": {
  "kernelspec": {
   "display_name": "Python 3",
   "language": "python",
   "name": "python3"
  },
  "language_info": {
   "codemirror_mode": {
    "name": "ipython",
    "version": 3
   },
   "file_extension": ".py",
   "mimetype": "text/x-python",
   "name": "python",
   "nbconvert_exporter": "python",
   "pygments_lexer": "ipython3",
   "version": "3.7.3"
  }
 },
 "nbformat": 4,
 "nbformat_minor": 2
}
