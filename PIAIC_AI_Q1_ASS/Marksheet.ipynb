{
 "cells": [
  {
   "cell_type": "code",
   "execution_count": 1,
   "metadata": {},
   "outputs": [
    {
     "name": "stdout",
     "output_type": "stream",
     "text": [
      "Enter marks between 0 to 100\n",
      "Enter marks for Maths: 90\n",
      "Enter marks for Chemistry: 85\n",
      "Enter marks for Physics: 98\n",
      "Enter marks for English: 87\n",
      "Enter marks for Computer: 76\n",
      "A+  87.2\n"
     ]
    }
   ],
   "source": [
    "\n",
    "print(\"Enter marks between 0 to 100\")\n",
    "\n",
    "maths = input(\"Enter marks for Maths: \")\n",
    "chemistry = input(\"Enter marks for Chemistry: \")\n",
    "physics = input(\"Enter marks for Physics: \")\n",
    "english = input(\"Enter marks for English: \")\n",
    "computer = input(\"Enter marks for Computer: \")\n",
    "\n",
    "total_marks = int(maths) + int(chemistry) + int(physics) + int(english) + int(computer)\n",
    "\n",
    "percentage = ( total_marks / 500 ) * 100\n",
    "\n",
    "if percentage <= 100 and percentage >= 80:\n",
    "    print(\"A+ \", percentage)\n",
    "elif percentage < 80 and percentage >= 70:\n",
    "    print(\"A \", percentage)\n",
    "elif percentage < 70 and percentage >= 60:\n",
    "    print(\"B \", percentage)\n",
    "elif percentage < 60 and percentage >= 50:\n",
    "    print(\"C \", percentage)\n",
    "elif percentage < 50 and percentage >= 40:\n",
    "    print(\"D \", percentage)\n",
    "else:\n",
    "    print(\"F \", percentage)\n",
    "\n"
   ]
  }
 ],
 "metadata": {
  "kernelspec": {
   "display_name": "Python 3",
   "language": "python",
   "name": "python3"
  },
  "language_info": {
   "codemirror_mode": {
    "name": "ipython",
    "version": 3
   },
   "file_extension": ".py",
   "mimetype": "text/x-python",
   "name": "python",
   "nbconvert_exporter": "python",
   "pygments_lexer": "ipython3",
   "version": "3.7.3"
  }
 },
 "nbformat": 4,
 "nbformat_minor": 2
}
