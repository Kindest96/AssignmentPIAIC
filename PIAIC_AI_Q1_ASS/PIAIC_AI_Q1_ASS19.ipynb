{
 "cells": [
  {
   "cell_type": "code",
   "execution_count": 9,
   "metadata": {},
   "outputs": [
    {
     "name": "stdout",
     "output_type": "stream",
     "text": [
      "Enter text: Race car\n",
      "Text Race car is Palindrome\n"
     ]
    }
   ],
   "source": [
    "string = input(\"Enter text: \")\n",
    "\n",
    "string_clean = string.replace(\" \", \"\")\n",
    "string_clean = string_clean.lower()\n",
    "string_clean_reverse = string_clean[::-1]\n",
    "\n",
    "if string_clean==string_clean_reverse:\n",
    "    print(\"Text\", string, \"is Palindrome\")\n",
    "else:\n",
    "    print(\"Text\", string, \"is not a Palindrome\")"
   ]
  },
  {
   "cell_type": "code",
   "execution_count": null,
   "metadata": {},
   "outputs": [],
   "source": []
  }
 ],
 "metadata": {
  "kernelspec": {
   "display_name": "Python 3",
   "language": "python",
   "name": "python3"
  },
  "language_info": {
   "codemirror_mode": {
    "name": "ipython",
    "version": 3
   },
   "file_extension": ".py",
   "mimetype": "text/x-python",
   "name": "python",
   "nbconvert_exporter": "python",
   "pygments_lexer": "ipython3",
   "version": "3.7.3"
  }
 },
 "nbformat": 4,
 "nbformat_minor": 2
}
