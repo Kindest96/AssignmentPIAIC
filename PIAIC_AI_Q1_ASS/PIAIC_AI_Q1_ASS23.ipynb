{
 "cells": [
  {
   "cell_type": "code",
   "execution_count": 2,
   "metadata": {},
   "outputs": [
    {
     "name": "stdout",
     "output_type": "stream",
     "text": [
      "1\n",
      "22\n",
      "333\n",
      "4444\n",
      "55555\n",
      "666666\n",
      "7777777\n",
      "88888888\n",
      "999999999\n"
     ]
    }
   ],
   "source": [
    "counter_1 = 1\n",
    "counter_2 = 1\n",
    "string = \"\"\n",
    "\n",
    "while counter_1<=9:\n",
    "    counter_2 = 1\n",
    "    string = \"\"\n",
    "    while counter_2<=counter_1:\n",
    "        string+=str(counter_1)\n",
    "        counter_2+=1\n",
    "    print(string)\n",
    "    counter_1+=1\n",
    "    "
   ]
  },
  {
   "cell_type": "code",
   "execution_count": null,
   "metadata": {},
   "outputs": [],
   "source": []
  }
 ],
 "metadata": {
  "kernelspec": {
   "display_name": "Python 3",
   "language": "python",
   "name": "python3"
  },
  "language_info": {
   "codemirror_mode": {
    "name": "ipython",
    "version": 3
   },
   "file_extension": ".py",
   "mimetype": "text/x-python",
   "name": "python",
   "nbconvert_exporter": "python",
   "pygments_lexer": "ipython3",
   "version": "3.7.3"
  }
 },
 "nbformat": 4,
 "nbformat_minor": 2
}
