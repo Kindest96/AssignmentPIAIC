{
 "cells": [
  {
   "cell_type": "code",
   "execution_count": 8,
   "metadata": {
    "scrolled": false
   },
   "outputs": [
    {
     "name": "stdout",
     "output_type": "stream",
     "text": [
      "* \n",
      "* * \n",
      "* * * \n",
      "* * * * \n",
      "* * * * * \n",
      "* * * * \n",
      "* * * \n",
      "* * \n",
      "* \n"
     ]
    }
   ],
   "source": [
    "counter_1 = 1\n",
    "counter_2 = 1\n",
    "string = \"\"\n",
    "\n",
    "while counter_1<=5:\n",
    "    counter_2 = 1\n",
    "    string = \"\"\n",
    "    while counter_2<=counter_1:\n",
    "        counter_2+=1\n",
    "        string+=\"* \"\n",
    "    print(string)\n",
    "    counter_1+=1\n",
    "    \n",
    "counter_1 = 4\n",
    "\n",
    "while counter_1>=1:\n",
    "    counter_2 = counter_1\n",
    "    string = \"\"\n",
    "    while counter_2>=1:\n",
    "        counter_2-=1\n",
    "        string+=\"* \"\n",
    "    print(string)\n",
    "    counter_1-=1\n",
    "    \n"
   ]
  },
  {
   "cell_type": "code",
   "execution_count": null,
   "metadata": {},
   "outputs": [],
   "source": []
  }
 ],
 "metadata": {
  "kernelspec": {
   "display_name": "Python 3",
   "language": "python",
   "name": "python3"
  },
  "language_info": {
   "codemirror_mode": {
    "name": "ipython",
    "version": 3
   },
   "file_extension": ".py",
   "mimetype": "text/x-python",
   "name": "python",
   "nbconvert_exporter": "python",
   "pygments_lexer": "ipython3",
   "version": "3.7.3"
  }
 },
 "nbformat": 4,
 "nbformat_minor": 2
}
