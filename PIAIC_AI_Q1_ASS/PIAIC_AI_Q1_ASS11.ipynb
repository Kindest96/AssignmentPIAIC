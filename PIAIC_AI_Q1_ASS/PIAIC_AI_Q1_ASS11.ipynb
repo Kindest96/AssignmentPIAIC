{
 "cells": [
  {
   "cell_type": "code",
   "execution_count": 1,
   "metadata": {},
   "outputs": [
    {
     "name": "stdout",
     "output_type": "stream",
     "text": [
      "Enter Co-ordinate for x1: 2\n",
      "Enter Co-ordinate for x2: 4\n",
      "Enter Co-ordinate for y1: 4\n",
      "Enter Co-ordinate for y2: 4\n",
      "Distance between points ( 2.0 , 4.0 ) and ( 4.0 , 4.0 ) is 2.0\n"
     ]
    }
   ],
   "source": [
    "import math\n",
    "\n",
    "x_1 = float(input(\"Enter Co-ordinate for x1: \"))\n",
    "x_2 = float(input(\"Enter Co-ordinate for x2: \"))\n",
    "y_1 = float(input(\"Enter Co-ordinate for y1: \"))\n",
    "y_2 = float(input(\"Enter Co-ordinate for y2: \"))\n",
    "\n",
    "distance = math.sqrt(((y_1-x_1)**2)+((y_2-x_2)**2))\n",
    "\n",
    "print(\"Distance between points (\", x_1, \",\", y_1, \") and (\", x_2, \",\", y_2, \") is\", distance)"
   ]
  },
  {
   "cell_type": "code",
   "execution_count": null,
   "metadata": {},
   "outputs": [],
   "source": []
  }
 ],
 "metadata": {
  "kernelspec": {
   "display_name": "Python 3",
   "language": "python",
   "name": "python3"
  },
  "language_info": {
   "codemirror_mode": {
    "name": "ipython",
    "version": 3
   },
   "file_extension": ".py",
   "mimetype": "text/x-python",
   "name": "python",
   "nbconvert_exporter": "python",
   "pygments_lexer": "ipython3",
   "version": "3.7.3"
  }
 },
 "nbformat": 4,
 "nbformat_minor": 2
}
