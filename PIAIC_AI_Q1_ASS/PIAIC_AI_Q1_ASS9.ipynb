{
 "cells": [
  {
   "cell_type": "code",
   "execution_count": 2,
   "metadata": {},
   "outputs": [
    {
     "name": "stdout",
     "output_type": "stream",
     "text": [
      "Enter magnitude of Triangle base: 4\n",
      "Enter Magnitude of Triangle Height: 4\n",
      "Area of a Triangle with Height 4 and Base 4 is 8.0\n"
     ]
    }
   ],
   "source": [
    "base = int(input(\"Enter magnitude of Triangle base: \"))\n",
    "height = int(input(\"Enter Magnitude of Triangle Height: \"))\n",
    "\n",
    "area = (base*height)/2\n",
    "\n",
    "print(\"Area of a Triangle with Height\", height, \"and Base\", base, \"is\", area)"
   ]
  },
  {
   "cell_type": "code",
   "execution_count": null,
   "metadata": {},
   "outputs": [],
   "source": []
  }
 ],
 "metadata": {
  "kernelspec": {
   "display_name": "Python 3",
   "language": "python",
   "name": "python3"
  },
  "language_info": {
   "codemirror_mode": {
    "name": "ipython",
    "version": 3
   },
   "file_extension": ".py",
   "mimetype": "text/x-python",
   "name": "python",
   "nbconvert_exporter": "python",
   "pygments_lexer": "ipython3",
   "version": "3.7.3"
  }
 },
 "nbformat": 4,
 "nbformat_minor": 2
}
