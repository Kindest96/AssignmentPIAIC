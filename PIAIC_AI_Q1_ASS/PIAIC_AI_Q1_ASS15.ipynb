{
 "cells": [
  {
   "cell_type": "code",
   "execution_count": 2,
   "metadata": {},
   "outputs": [
    {
     "name": "stdout",
     "output_type": "stream",
     "text": [
      "Enter a Number 1234\n",
      "1 + 2 + 3 + 4\n",
      "Sum Of 1 + 2 + 3 + 4 is 10\n"
     ]
    }
   ],
   "source": [
    "number = int(input(\"Enter a number: \"))\n",
    "total = 0\n",
    "\n",
    "print_number = ' + '.join(str(number))\n",
    "\n",
    "while number>=0:\n",
    "    split_digit=number%10\n",
    "    total+=split_digit\n",
    "    number//=10\n",
    "    \n",
    "print(\"Sum of\", print_numbers, \"is\", total)\n"
   ]
  }
 ],
 "metadata": {
  "kernelspec": {
   "display_name": "Python 3",
   "language": "python",
   "name": "python3"
  },
  "language_info": {
   "codemirror_mode": {
    "name": "ipython",
    "version": 3
   },
   "file_extension": ".py",
   "mimetype": "text/x-python",
   "name": "python",
   "nbconvert_exporter": "python",
   "pygments_lexer": "ipython3",
   "version": "3.7.3"
  }
 },
 "nbformat": 4,
 "nbformat_minor": 2
}
