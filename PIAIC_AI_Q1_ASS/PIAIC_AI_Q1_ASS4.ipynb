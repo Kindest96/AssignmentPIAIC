{
 "cells": [
  {
   "cell_type": "code",
   "execution_count": 8,
   "metadata": {},
   "outputs": [
    {
     "name": "stdout",
     "output_type": "stream",
     "text": [
      "Enter a date in (dd/mm/yy) format: 12/12/2018\n",
      "Enter a date in (dd/mm/yy) format: 16/12/2019\n",
      "There are 369 days in between 12/12/2018 and 16/12/2019\n"
     ]
    }
   ],
   "source": [
    "from datetime import date\n",
    "\n",
    "starting_date_str = input(\"Enter a date in (dd/mm/yy) format: \")\n",
    "ending_date_str = input(\"Enter a date in (dd/mm/yy) format: \")\n",
    "\n",
    "starting_date_str_split = starting_date_str.split(\"/\")\n",
    "ending_date_str_split = ending_date_str.split(\"/\")\n",
    "\n",
    "starting_date = date(int(starting_date_str_split[2]), int(starting_date_str_split[1]), int(starting_date_str_split[0]))\n",
    "ending_date = date(int(ending_date_str_split[2]), int(ending_date_str_split[1]), int(ending_date_str_split[0]))\n",
    "\n",
    "difference_date = ending_date - starting_date\n",
    "\n",
    "print(\"There are\", difference_date.days ,\"days in between\", starting_date_str, \"and\", ending_date_str)\n"
   ]
  },
  {
   "cell_type": "code",
   "execution_count": null,
   "metadata": {},
   "outputs": [],
   "source": []
  },
  {
   "cell_type": "code",
   "execution_count": null,
   "metadata": {},
   "outputs": [],
   "source": []
  }
 ],
 "metadata": {
  "kernelspec": {
   "display_name": "Python 3",
   "language": "python",
   "name": "python3"
  },
  "language_info": {
   "codemirror_mode": {
    "name": "ipython",
    "version": 3
   },
   "file_extension": ".py",
   "mimetype": "text/x-python",
   "name": "python",
   "nbconvert_exporter": "python",
   "pygments_lexer": "ipython3",
   "version": "3.7.3"
  }
 },
 "nbformat": 4,
 "nbformat_minor": 2
}
